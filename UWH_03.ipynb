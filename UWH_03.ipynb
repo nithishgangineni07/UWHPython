{
  "nbformat": 4,
  "nbformat_minor": 0,
  "metadata": {
    "colab": {
      "provenance": [],
      "authorship_tag": "ABX9TyPcmLmSrQ+EgtSfb3BleU1n",
      "include_colab_link": true
    },
    "kernelspec": {
      "name": "python3",
      "display_name": "Python 3"
    },
    "language_info": {
      "name": "python"
    }
  },
  "cells": [
    {
      "cell_type": "markdown",
      "metadata": {
        "id": "view-in-github",
        "colab_type": "text"
      },
      "source": [
        "<a href=\"https://colab.research.google.com/github/nithishgangineni07/UWHPython/blob/main/UWH_03.ipynb\" target=\"_parent\"><img src=\"https://colab.research.google.com/assets/colab-badge.svg\" alt=\"Open In Colab\"/></a>"
      ]
    },
    {
      "cell_type": "code",
      "execution_count": null,
      "metadata": {
        "id": "MbU4YuD6qp2W"
      },
      "outputs": [],
      "source": []
    },
    {
      "cell_type": "markdown",
      "source": [
        "**How do I create plots in pandas**<br>\n",
        "In pd.readcsv() method I will index_column as 0=0, or parsedata = true\n",
        "\n",
        "**DataFrame.plot.box()** refers to a blocks plot where box is a block method\n",
        "\n",
        "The useage of index_col and the parse_dates paramters of the readcsv() function to define the 1st 0th column as indexof the resulting dataframe and convert the dates in the column to timesatmp object.\n",
        "\n",
        "**plt.show()**\n",
        "\n"
      ],
      "metadata": {
        "id": "Z27AnUJMqq7t"
      }
    },
    {
      "cell_type": "markdown",
      "source": [
        "**I want to plot only the columns of data table with data from Warangal**\n",
        "\n",
        "air_quality['Waranagal'].plot()<br>\n",
        "plt.show()"
      ],
      "metadata": {
        "id": "VrmZzaz9tb_1"
      }
    },
    {
      "cell_type": "markdown",
      "source": [
        "**I want to visually compare the NO2 values measured in Hyderabad and Warangal**<br>\n",
        "air_quality.plot.scatter(x='Huderabad',y='Warangal',alpha=0.5)<br>\n",
        "The line calls the\n",
        "x=Hyderabad specifies the data from the dataframe, Hyderabad inside String is used as the data for the x-axis of the scatter plot.\n",
        "y=Warangal specifies the data from the dataframe, Warangal inside String is used as the data for the y-axis of the scatter plot.\n",
        "alpha=0.5 Lets the transperancy of the plot to set 0.5, this is useful for visualising datatypes as it will allow underlying data to see."
      ],
      "metadata": {
        "id": "R7Y80CqJt-b8"
      }
    }
  ]
}